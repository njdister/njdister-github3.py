{
 "metadata": {
  "name": "",
  "signature": "sha256:ed4e83114104bffcc56d1edfe91758409ac02198e3daf0df5518ba2420c3a6f0"
 },
 "nbformat": 3,
 "nbformat_minor": 0,
 "worksheets": [
  {
   "cells": [
    {
     "cell_type": "heading",
     "level": 1,
     "metadata": {},
     "source": [
      "The Issues API in github3.py"
     ]
    },
    {
     "cell_type": "code",
     "collapsed": false,
     "input": [
      "import github3"
     ],
     "language": "python",
     "metadata": {},
     "outputs": [],
     "prompt_number": 1
    },
    {
     "cell_type": "code",
     "collapsed": false,
     "input": [
      "issue = github3.issue('sigmavirus24', 'github3.py', 187)"
     ],
     "language": "python",
     "metadata": {},
     "outputs": [],
     "prompt_number": 2
    },
    {
     "cell_type": "code",
     "collapsed": false,
     "input": [
      "print(issue.comments_count)"
     ],
     "language": "python",
     "metadata": {},
     "outputs": [
      {
       "output_type": "stream",
       "stream": "stdout",
       "text": [
        "3\n"
       ]
      }
     ],
     "prompt_number": 3
    },
    {
     "cell_type": "code",
     "collapsed": false,
     "input": [
      "for label in issue.labels():\n",
      "    print(label)"
     ],
     "language": "python",
     "metadata": {},
     "outputs": [
      {
       "output_type": "stream",
       "stream": "stdout",
       "text": [
        "Bug\n",
        "Easy\n",
        "Enhancement\n",
        "Pair with Ian\n"
       ]
      }
     ],
     "prompt_number": 4
    },
    {
     "cell_type": "markdown",
     "metadata": {},
     "source": [
      "With an Issue object, we can retrieve a lot of information about the issue itself.\n",
      "\n",
      "We can also retrieve an issue's text (or body) in *three* ways:\n",
      "\n",
      "1. HTML\n",
      "1. Plain text\n",
      "1. Plain markdown"
     ]
    },
    {
     "cell_type": "code",
     "collapsed": false,
     "input": [
      "print(issue.body_html)"
     ],
     "language": "python",
     "metadata": {},
     "outputs": [
      {
       "output_type": "stream",
       "stream": "stdout",
       "text": [
        "<p><a href=\"https://twitter.com/brian_curtin/status/420665317270900736\">https://twitter.com/brian_curtin/status/420665317270900736</a> made me realize I never documented it <em>at all</em>.</p>\n",
        "\n",
        "<p>Also it needs to be added to the <code>github3.login</code> function. We need a few good examples to document it with.</p>\n"
       ]
      }
     ],
     "prompt_number": 5
    },
    {
     "cell_type": "code",
     "collapsed": false,
     "input": [
      "print(issue.body_text)"
     ],
     "language": "python",
     "metadata": {},
     "outputs": [
      {
       "output_type": "stream",
       "stream": "stdout",
       "text": [
        "https://twitter.com/brian_curtin/status/420665317270900736 made me realize I never documented it at all.\n",
        "\n",
        "Also it needs to be added to the github3.login function. We need a few good examples to document it with.\n"
       ]
      }
     ],
     "prompt_number": 6
    },
    {
     "cell_type": "code",
     "collapsed": false,
     "input": [
      "print(issue.body)"
     ],
     "language": "python",
     "metadata": {},
     "outputs": [
      {
       "output_type": "stream",
       "stream": "stdout",
       "text": [
        "https://twitter.com/brian_curtin/status/420665317270900736 made me realize I never documented it *at all*.\r\n",
        "\r\n",
        "Also it needs to be added to the `github3.login` function. We need a few good examples to document it with.\n"
       ]
      }
     ],
     "prompt_number": 10
    },
    {
     "cell_type": "code",
     "collapsed": false,
     "input": [
      "print(issue.html_url)"
     ],
     "language": "python",
     "metadata": {},
     "outputs": [
      {
       "output_type": "stream",
       "stream": "stdout",
       "text": [
        "https://github.com/sigmavirus24/github3.py/issues/187\n"
       ]
      }
     ],
     "prompt_number": 7
    },
    {
     "cell_type": "code",
     "collapsed": false,
     "input": [
      "print('#{0.number}: \"{0.title}\" opened by {0.user}'.format(issue))"
     ],
     "language": "python",
     "metadata": {},
     "outputs": [
      {
       "output_type": "stream",
       "stream": "stdout",
       "text": [
        "#187: \"Document two factor auth\" opened by sigmavirus24\n"
       ]
      }
     ],
     "prompt_number": 8
    },
    {
     "cell_type": "code",
     "collapsed": false,
     "input": [
      "for comment in issue.comments():\n",
      "    print('\"{0.body_text}\" posted by {0.user}'.format(comment))\n",
      "    print('-' * 80)"
     ],
     "language": "python",
     "metadata": {},
     "outputs": [
      {
       "output_type": "stream",
       "stream": "stdout",
       "text": [
        "\"Note to self: Don't merge without documentation :-p \n",
        "\n",
        "But I totally thought I had some REPL/iPython output from testing this when it was implemented that would have worked well for an example.\" posted by esacteksab\n",
        "--------------------------------------------------------------------------------\n",
        "\"On Tue, Jan 07, 2014 at 05:48:28PM -0800, Barry Morrison wrote:\n",
        " Note to self: _Don't merge without documentation_ :-p\n",
        "A thousand times this.\n",
        " But I totally thought I had some REPL/iPython output from testing this when\n",
        " it was implemented that would have worked well for an example.\n",
        "I'll take it!\" posted by sigmavirus24\n",
        "--------------------------------------------------------------------------------\n",
        "\"Went back through my things. I don't have anything. :(\" posted by esacteksab\n",
        "--------------------------------------------------------------------------------\n"
       ]
      }
     ],
     "prompt_number": 11
    },
    {
     "cell_type": "markdown",
     "metadata": {},
     "source": [
      "As you can see above [esacteksab](https://github.com/esacteksab) originally thought of using IPython notebooks to document github3.py"
     ]
    }
   ],
   "metadata": {}
  }
 ]
}
